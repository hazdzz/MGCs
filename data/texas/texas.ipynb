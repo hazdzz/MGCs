{
 "cells": [
  {
   "cell_type": "code",
   "execution_count": 1,
   "id": "92f54f3b",
   "metadata": {},
   "outputs": [],
   "source": [
    "import os\n",
    "import numpy as np\n",
    "import pandas as pd\n",
    "import random"
   ]
  },
  {
   "cell_type": "code",
   "execution_count": 2,
   "id": "07964f33",
   "metadata": {},
   "outputs": [],
   "source": [
    "random.seed(42)\n",
    "np.random.seed(42)\n",
    "os.environ['PYTHONHASHSEED'] = str(42)"
   ]
  },
  {
   "cell_type": "code",
   "execution_count": 3,
   "id": "c3c9024e",
   "metadata": {},
   "outputs": [],
   "source": [
    "labels = np.genfromtxt('labels.csv', delimiter=',')"
   ]
  },
  {
   "cell_type": "code",
   "execution_count": 4,
   "id": "f39cf256",
   "metadata": {},
   "outputs": [],
   "source": [
    "c1 = 0\n",
    "c2 = 0\n",
    "c3 = 0\n",
    "c4 = 0\n",
    "c5 = 0\n",
    "\n",
    "for i in range(labels.shape[0]):\n",
    "    if labels[i][0] == 1:\n",
    "        c1 += 1\n",
    "    elif labels[i][1] == 1:\n",
    "        c2 += 1\n",
    "    elif labels[i][2] == 1:\n",
    "        c3 += 1\n",
    "    elif labels[i][3] == 1:\n",
    "        c4 += 1\n",
    "    elif labels[i][4] == 1:\n",
    "        c5 += 1"
   ]
  },
  {
   "cell_type": "code",
   "execution_count": 5,
   "id": "d0a20d55",
   "metadata": {},
   "outputs": [
    {
     "name": "stdout",
     "output_type": "stream",
     "text": [
      "34\n",
      "31\n",
      "18\n",
      "1\n",
      "103\n"
     ]
    }
   ],
   "source": [
    "print(c1)\n",
    "print(c2)\n",
    "print(c3)\n",
    "print(c4)\n",
    "print(c5)"
   ]
  },
  {
   "cell_type": "code",
   "execution_count": null,
   "id": "ac280383",
   "metadata": {},
   "outputs": [],
   "source": [
    "list_a = []\n",
    "list_b = []\n",
    "list_c = []\n",
    "list_d = []\n",
    "list_e = []"
   ]
  },
  {
   "cell_type": "code",
   "execution_count": null,
   "id": "97afcba1",
   "metadata": {},
   "outputs": [],
   "source": [
    "for i in range(labels.shape[0]):\n",
    "    if labels[i][0] == 1:\n",
    "        list_a.append(i)\n",
    "    elif labels[i][1] == 1:\n",
    "        list_b.append(i)\n",
    "    elif labels[i][2] == 1:\n",
    "        list_c.append(i)\n",
    "    elif labels[i][3] == 1:\n",
    "        list_d.append(i)\n",
    "    elif labels[i][4] == 1:\n",
    "        list_e.append(i)"
   ]
  },
  {
   "cell_type": "code",
   "execution_count": null,
   "id": "35af49e9",
   "metadata": {},
   "outputs": [],
   "source": [
    "random.seed(42)\n",
    "np.random.seed(42)\n",
    "os.environ['PYTHONHASHSEED'] = str(42)\n",
    "\n",
    "list_f = np.random.choice(list_a, size=20, replace=False)\n",
    "list_g = np.random.choice(list_b, size=19, replace=False)\n",
    "list_h = np.random.choice(list_c, size=10, replace=False)\n",
    "list_i = np.random.choice(list_e, size=61, replace=False)"
   ]
  },
  {
   "cell_type": "code",
   "execution_count": null,
   "id": "85ebcecb",
   "metadata": {},
   "outputs": [],
   "source": [
    "list_f.sort()\n",
    "list_g.sort()\n",
    "list_h.sort()\n",
    "list_i.sort()"
   ]
  },
  {
   "cell_type": "code",
   "execution_count": null,
   "id": "f0ffe169",
   "metadata": {},
   "outputs": [],
   "source": [
    "arr_a = np.array(list_a)\n",
    "arr_b = np.array(list_b)\n",
    "arr_c = np.array(list_c)\n",
    "arr_d = np.array(list_d)\n",
    "arr_e = np.array(list_e)\n",
    "\n",
    "arr_f = np.array(list_f)\n",
    "arr_g = np.array(list_g)\n",
    "arr_h = np.array(list_h)\n",
    "arr_i = np.array(list_i)"
   ]
  },
  {
   "cell_type": "code",
   "execution_count": null,
   "id": "618dd3f5",
   "metadata": {},
   "outputs": [],
   "source": [
    "a = np.setdiff1d(arr_a, arr_f)\n",
    "b = np.setdiff1d(arr_b, arr_g)\n",
    "c = np.setdiff1d(arr_c, arr_h)\n",
    "e = np.setdiff1d(arr_e, arr_i)"
   ]
  },
  {
   "cell_type": "code",
   "execution_count": null,
   "id": "e0ab9590",
   "metadata": {},
   "outputs": [],
   "source": [
    "e"
   ]
  },
  {
   "cell_type": "code",
   "execution_count": null,
   "id": "6cc4fc29",
   "metadata": {},
   "outputs": [],
   "source": [
    "random.seed(42)\n",
    "np.random.seed(42)\n",
    "os.environ['PYTHONHASHSEED'] = str(42)\n",
    "\n",
    "a_val = np.random.choice(a, size=7, replace=False)\n",
    "a_val.sort()\n",
    "a_test = np.setdiff1d(a, a_val)\n",
    "a_test.sort()\n",
    "\n",
    "b_val = np.random.choice(b, size=6, replace=False)\n",
    "b_val.sort()\n",
    "b_test = np.setdiff1d(b, b_val)\n",
    "b_test.sort()\n",
    "\n",
    "c_val = np.random.choice(c, size=4, replace=False)\n",
    "c_val.sort()\n",
    "c_test = np.setdiff1d(c, c_val)\n",
    "c_test.sort()\n",
    "\n",
    "e_val = np.random.choice(e, size=21, replace=False)\n",
    "e_val.sort()\n",
    "e_test = np.setdiff1d(e, e_val)\n",
    "e_test.sort()"
   ]
  },
  {
   "cell_type": "code",
   "execution_count": null,
   "id": "406dcaf3",
   "metadata": {},
   "outputs": [],
   "source": [
    "idx_train = np.concatenate((arr_d, arr_f, arr_g, arr_h, arr_i), axis=None)\n",
    "idx_val = np.concatenate((a_val, b_val, c_val, e_val), axis=None)\n",
    "idx_test = np.concatenate((a_test, b_test, c_test, e_test), axis=None)"
   ]
  },
  {
   "cell_type": "code",
   "execution_count": null,
   "id": "0496694f",
   "metadata": {},
   "outputs": [],
   "source": [
    "idx_train.sort()\n",
    "idx_val.sort()\n",
    "idx_test.sort()"
   ]
  },
  {
   "cell_type": "code",
   "execution_count": null,
   "id": "6d219b70",
   "metadata": {},
   "outputs": [],
   "source": [
    "np.savetxt('idx_train.csv', idx_train, fmt='%s', delimiter=',')\n",
    "np.savetxt('idx_val.csv', idx_val, fmt='%s', delimiter=',')\n",
    "np.savetxt('idx_test.csv', idx_test, fmt='%s', delimiter=',')"
   ]
  }
 ],
 "metadata": {
  "kernelspec": {
   "display_name": "Python 3",
   "language": "python",
   "name": "python3"
  },
  "language_info": {
   "codemirror_mode": {
    "name": "ipython",
    "version": 3
   },
   "file_extension": ".py",
   "mimetype": "text/x-python",
   "name": "python",
   "nbconvert_exporter": "python",
   "pygments_lexer": "ipython3",
   "version": "3.8.11"
  }
 },
 "nbformat": 4,
 "nbformat_minor": 5
}
