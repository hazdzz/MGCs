{
 "cells": [
  {
   "cell_type": "code",
   "execution_count": 1,
   "id": "92f54f3b",
   "metadata": {},
   "outputs": [],
   "source": [
    "import os\n",
    "import numpy as np\n",
    "import pandas as pd\n",
    "import random"
   ]
  },
  {
   "cell_type": "code",
   "execution_count": 2,
   "id": "c3c9024e",
   "metadata": {},
   "outputs": [],
   "source": [
    "labels = np.genfromtxt('labels.csv', delimiter=',')"
   ]
  },
  {
   "cell_type": "code",
   "execution_count": 3,
   "id": "f39cf256",
   "metadata": {},
   "outputs": [],
   "source": [
    "c1 = 0\n",
    "c2 = 0\n",
    "c3 = 0\n",
    "c4 = 0\n",
    "c5 = 0\n",
    "\n",
    "list_a = []\n",
    "list_b = []\n",
    "list_c = []\n",
    "list_d = []\n",
    "list_e = []\n",
    "\n",
    "for i in range(labels.shape[0]):\n",
    "    if labels[i][0] == 1:\n",
    "        c1 += 1\n",
    "        list_a.append(i)\n",
    "    elif labels[i][1] == 1:\n",
    "        c2 += 1\n",
    "        list_b.append(i)\n",
    "    elif labels[i][2] == 1:\n",
    "        c3 += 1\n",
    "        list_c.append(i)\n",
    "    elif labels[i][3] == 1:\n",
    "        c4 += 1\n",
    "        list_d.append(i)\n",
    "    elif labels[i][4] == 1:\n",
    "        c5 += 1\n",
    "        list_e.append(i)"
   ]
  },
  {
   "cell_type": "code",
   "execution_count": 4,
   "id": "d0a20d55",
   "metadata": {},
   "outputs": [
    {
     "name": "stdout",
     "output_type": "stream",
     "text": [
      "34\n",
      "31\n",
      "18\n",
      "1\n",
      "103\n"
     ]
    }
   ],
   "source": [
    "print(c1)\n",
    "print(c2)\n",
    "print(c3)\n",
    "print(c4)\n",
    "print(c5)"
   ]
  },
  {
   "cell_type": "code",
   "execution_count": 5,
   "id": "35af49e9",
   "metadata": {},
   "outputs": [],
   "source": [
    "random.seed(97)\n",
    "np.random.seed(97)\n",
    "os.environ['PYTHONHASHSEED'] = str(97)\n",
    "\n",
    "arr_a_train = np.random.choice(list_a, size=20, replace=False)\n",
    "arr_b_train = np.random.choice(list_b, size=19, replace=False)\n",
    "arr_c_train = np.random.choice(list_c, size=10, replace=False)\n",
    "arr_d_train = np.random.choice(list_d, size=1, replace=False)\n",
    "arr_e_train = np.random.choice(list_e, size=61, replace=False)"
   ]
  },
  {
   "cell_type": "code",
   "execution_count": 6,
   "id": "f0ffe169",
   "metadata": {},
   "outputs": [],
   "source": [
    "arr_a = np.array(list_a)\n",
    "arr_b = np.array(list_b)\n",
    "arr_c = np.array(list_c)\n",
    "arr_d = np.array(list_d)\n",
    "arr_e = np.array(list_e)\n",
    "\n",
    "arr_a_val_test = np.setdiff1d(arr_a, arr_a_train)\n",
    "arr_b_val_test = np.setdiff1d(arr_b, arr_b_train)\n",
    "arr_c_val_test = np.setdiff1d(arr_c, arr_c_train)\n",
    "\n",
    "arr_e_val_test = np.setdiff1d(arr_e, arr_e_train)"
   ]
  },
  {
   "cell_type": "code",
   "execution_count": 7,
   "id": "6cc4fc29",
   "metadata": {},
   "outputs": [],
   "source": [
    "random.seed(97)\n",
    "np.random.seed(97)\n",
    "os.environ['PYTHONHASHSEED'] = str(97)\n",
    "\n",
    "arr_a_val = np.random.choice(arr_a_val_test, size=7, replace=False)\n",
    "arr_a_test = np.setdiff1d(arr_a_val_test, arr_a_val)\n",
    "\n",
    "arr_b_val = np.random.choice(arr_b_val_test, size=6, replace=False)\n",
    "arr_b_test = np.setdiff1d(arr_b_val_test, arr_b_val)\n",
    "\n",
    "arr_c_val = np.random.choice(arr_c_val_test, size=4, replace=False)\n",
    "arr_c_test = np.setdiff1d(arr_c_val_test, arr_c_val)\n",
    "\n",
    "arr_e_val = np.random.choice(arr_e_val_test, size=21, replace=False)\n",
    "arr_e_test = np.setdiff1d(arr_e_val_test, arr_e_val)"
   ]
  },
  {
   "cell_type": "code",
   "execution_count": 8,
   "id": "406dcaf3",
   "metadata": {},
   "outputs": [],
   "source": [
    "idx_train = np.concatenate((arr_a_train, arr_b_train, arr_c_train, arr_d_train, arr_e_train), axis=None)\n",
    "idx_val = np.concatenate((arr_a_val, arr_b_val, arr_c_val, arr_e_val), axis=None)\n",
    "idx_test = np.concatenate((arr_a_test, arr_b_test, arr_c_test, arr_e_test), axis=None)"
   ]
  },
  {
   "cell_type": "code",
   "execution_count": 9,
   "id": "0496694f",
   "metadata": {},
   "outputs": [],
   "source": [
    "idx_train.sort()\n",
    "idx_val.sort()\n",
    "idx_test.sort()"
   ]
  },
  {
   "cell_type": "code",
   "execution_count": 10,
   "id": "6d219b70",
   "metadata": {},
   "outputs": [],
   "source": [
    "np.savetxt('idx_train.csv', idx_train, fmt='%s', delimiter=',')\n",
    "np.savetxt('idx_val.csv', idx_val, fmt='%s', delimiter=',')\n",
    "np.savetxt('idx_test.csv', idx_test, fmt='%s', delimiter=',')"
   ]
  }
 ],
 "metadata": {
  "kernelspec": {
   "display_name": "Python 3",
   "language": "python",
   "name": "python3"
  },
  "language_info": {
   "codemirror_mode": {
    "name": "ipython",
    "version": 3
   },
   "file_extension": ".py",
   "mimetype": "text/x-python",
   "name": "python",
   "nbconvert_exporter": "python",
   "pygments_lexer": "ipython3",
   "version": "3.8.11"
  }
 },
 "nbformat": 4,
 "nbformat_minor": 5
}
