{
 "cells": [
  {
   "cell_type": "code",
   "execution_count": 1,
   "id": "389d42a9",
   "metadata": {},
   "outputs": [],
   "source": [
    "# This is a file to demonstrate both two definitions of the normalized magnetic Laplacian have same eigenvalues."
   ]
  },
  {
   "cell_type": "code",
   "execution_count": 2,
   "id": "eb2cb1f1",
   "metadata": {},
   "outputs": [],
   "source": [
    "import math\n",
    "import numpy as np\n",
    "from scipy.linalg import eigvalsh\n",
    "from scipy.linalg import fractional_matrix_power"
   ]
  },
  {
   "cell_type": "code",
   "execution_count": 3,
   "id": "77870841",
   "metadata": {},
   "outputs": [],
   "source": [
    "a = [\n",
    "    [0, 1, 0],\n",
    "    [0, 0, 1],\n",
    "    [1, 0, 0]\n",
    "]"
   ]
  },
  {
   "cell_type": "code",
   "execution_count": 4,
   "id": "74c89ba7",
   "metadata": {},
   "outputs": [],
   "source": [
    "dir_adj = np.array(a, dtype=int)\n",
    "adj = np.maximum(dir_adj, dir_adj.T)"
   ]
  },
  {
   "cell_type": "code",
   "execution_count": 5,
   "id": "e7e55fc1",
   "metadata": {},
   "outputs": [],
   "source": [
    "# Since the graph is a directed 3-cycles graph, g = 1/3\n",
    "g = 1/3\n",
    "trs = np.exp(1j * 2 * math.pi * g * (dir_adj.T - dir_adj))\n",
    "trs_ = np.exp(1j * 2 * math.pi * g * (dir_adj - dir_adj.T))"
   ]
  },
  {
   "cell_type": "code",
   "execution_count": 6,
   "id": "82d383ca",
   "metadata": {},
   "outputs": [
    {
     "name": "stdout",
     "output_type": "stream",
     "text": [
      "[[ 1. +0.j        -0.5-0.8660254j -0.5+0.8660254j]\n",
      " [-0.5+0.8660254j  1. +0.j        -0.5-0.8660254j]\n",
      " [-0.5-0.8660254j -0.5+0.8660254j  1. +0.j       ]]\n"
     ]
    }
   ],
   "source": [
    "print(trs)"
   ]
  },
  {
   "cell_type": "code",
   "execution_count": 7,
   "id": "a064b811",
   "metadata": {},
   "outputs": [
    {
     "name": "stdout",
     "output_type": "stream",
     "text": [
      "[[ 1. +0.j        -0.5+0.8660254j -0.5-0.8660254j]\n",
      " [-0.5-0.8660254j  1. +0.j        -0.5+0.8660254j]\n",
      " [-0.5+0.8660254j -0.5-0.8660254j  1. +0.j       ]]\n"
     ]
    }
   ],
   "source": [
    "print(trs_)"
   ]
  },
  {
   "cell_type": "code",
   "execution_count": 8,
   "id": "a72885a4",
   "metadata": {},
   "outputs": [],
   "source": [
    "deg = np.diag(np.sum(adj, axis=1))"
   ]
  },
  {
   "cell_type": "code",
   "execution_count": 9,
   "id": "119528ba",
   "metadata": {},
   "outputs": [],
   "source": [
    "mag_lap = deg - np.multiply(adj, trs)\n",
    "mag_lap_ = deg - np.multiply(adj, trs_)"
   ]
  },
  {
   "cell_type": "code",
   "execution_count": 10,
   "id": "cd62869f",
   "metadata": {},
   "outputs": [
    {
     "name": "stdout",
     "output_type": "stream",
     "text": [
      "[[2. +0.j        0.5+0.8660254j 0.5-0.8660254j]\n",
      " [0.5-0.8660254j 2. +0.j        0.5+0.8660254j]\n",
      " [0.5+0.8660254j 0.5-0.8660254j 2. +0.j       ]]\n"
     ]
    }
   ],
   "source": [
    "print(mag_lap)"
   ]
  },
  {
   "cell_type": "code",
   "execution_count": 11,
   "id": "fc2f0c07",
   "metadata": {},
   "outputs": [
    {
     "name": "stdout",
     "output_type": "stream",
     "text": [
      "[[2. +0.j        0.5-0.8660254j 0.5+0.8660254j]\n",
      " [0.5+0.8660254j 2. +0.j        0.5-0.8660254j]\n",
      " [0.5-0.8660254j 0.5+0.8660254j 2. +0.j       ]]\n"
     ]
    }
   ],
   "source": [
    "print(mag_lap_)"
   ]
  },
  {
   "cell_type": "code",
   "execution_count": 12,
   "id": "59fc923b",
   "metadata": {},
   "outputs": [],
   "source": [
    "n_vertex = dir_adj.shape[0]\n",
    "id = np.identity(n_vertex)"
   ]
  },
  {
   "cell_type": "code",
   "execution_count": 13,
   "id": "f262d6e8",
   "metadata": {},
   "outputs": [],
   "source": [
    "deg_inv_sqrt = fractional_matrix_power(deg, -0.5)"
   ]
  },
  {
   "cell_type": "code",
   "execution_count": 14,
   "id": "9768e9bc",
   "metadata": {},
   "outputs": [],
   "source": [
    "sym_norm_mag_lap = id - np.dot(np.dot(deg_inv_sqrt, np.multiply(adj, trs)), deg_inv_sqrt)\n",
    "sym_norm_mag_lap_ = id - np.dot(np.dot(deg_inv_sqrt, np.multiply(adj, trs_)), deg_inv_sqrt)"
   ]
  },
  {
   "cell_type": "code",
   "execution_count": 15,
   "id": "baa7c3bd",
   "metadata": {},
   "outputs": [
    {
     "name": "stdout",
     "output_type": "stream",
     "text": [
      "[[1.  +0.j        0.25+0.4330127j 0.25-0.4330127j]\n",
      " [0.25-0.4330127j 1.  +0.j        0.25+0.4330127j]\n",
      " [0.25+0.4330127j 0.25-0.4330127j 1.  +0.j       ]]\n"
     ]
    }
   ],
   "source": [
    "print(sym_norm_mag_lap)"
   ]
  },
  {
   "cell_type": "code",
   "execution_count": 16,
   "id": "28f54326",
   "metadata": {},
   "outputs": [
    {
     "name": "stdout",
     "output_type": "stream",
     "text": [
      "[[1.  +0.j        0.25-0.4330127j 0.25+0.4330127j]\n",
      " [0.25+0.4330127j 1.  +0.j        0.25-0.4330127j]\n",
      " [0.25-0.4330127j 0.25+0.4330127j 1.  +0.j       ]]\n"
     ]
    }
   ],
   "source": [
    "print(sym_norm_mag_lap_)"
   ]
  },
  {
   "cell_type": "code",
   "execution_count": 17,
   "id": "2673ae39",
   "metadata": {},
   "outputs": [],
   "source": [
    "ev = eigvalsh(sym_norm_mag_lap)\n",
    "ev_ = eigvalsh(sym_norm_mag_lap_)"
   ]
  },
  {
   "cell_type": "code",
   "execution_count": 18,
   "id": "c261bc5e",
   "metadata": {},
   "outputs": [
    {
     "name": "stdout",
     "output_type": "stream",
     "text": [
      "[-5.27355937e-16  1.50000000e+00  1.50000000e+00]\n"
     ]
    }
   ],
   "source": [
    "print(ev)"
   ]
  },
  {
   "cell_type": "code",
   "execution_count": 19,
   "id": "3285b7fe",
   "metadata": {},
   "outputs": [
    {
     "name": "stdout",
     "output_type": "stream",
     "text": [
      "[-5.27355937e-16  1.50000000e+00  1.50000000e+00]\n"
     ]
    }
   ],
   "source": [
    "print(ev_)"
   ]
  },
  {
   "cell_type": "code",
   "execution_count": 20,
   "id": "c55b2773",
   "metadata": {},
   "outputs": [
    {
     "name": "stdout",
     "output_type": "stream",
     "text": [
      "True\n"
     ]
    }
   ],
   "source": [
    "print((ev == ev_).all())"
   ]
  }
 ],
 "metadata": {
  "kernelspec": {
   "display_name": "Python 3",
   "language": "python",
   "name": "python3"
  },
  "language_info": {
   "codemirror_mode": {
    "name": "ipython",
    "version": 3
   },
   "file_extension": ".py",
   "mimetype": "text/x-python",
   "name": "python",
   "nbconvert_exporter": "python",
   "pygments_lexer": "ipython3",
   "version": "3.8.11"
  }
 },
 "nbformat": 4,
 "nbformat_minor": 5
}
